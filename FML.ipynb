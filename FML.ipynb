{
  "nbformat": 4,
  "nbformat_minor": 0,
  "metadata": {
    "colab": {
      "name": "231012_FML",
      "provenance": [],
      "collapsed_sections": []
    },
    "kernelspec": {
      "name": "python3",
      "display_name": "Python 3"
    },
    "language_info": {
      "name": "python"
    },
    "accelerator": "GPU"
  },
  "cells": [
    {
      "cell_type": "markdown",
      "source": [
        "## FML Final Project\n"
      ],
      "metadata": {
        "id": "y_oPDhf76N1d"
      }
    },
    {
      "cell_type": "code",
      "execution_count": null,
      "metadata": {
        "colab": {
          "base_uri": "https://localhost:8080/"
        },
        "id": "zeDLsR_kPEHU",
        "outputId": "32ec2278-4bcd-4019-83b6-ecea0a1e8a43"
      },
      "outputs": [
        {
          "output_type": "stream",
          "name": "stdout",
          "text": [
            "Mounted at /content/drive/\n"
          ]
        }
      ],
      "source": [
        "#connect to drive\n",
        "from google.colab import drive\n",
        "drive.mount('/content/drive/')"
      ]
    },
    {
      "cell_type": "code",
      "source": [
        "#Open Source data manipulation tool\n",
        "import pandas as pd"
      ],
      "metadata": {
        "id": "423VWRaEPffL"
      },
      "execution_count": null,
      "outputs": []
    },
    {
      "cell_type": "code",
      "source": [
        "#LoadTrainning data\n",
        "training1=pd.read_csv('/content/drive/My Drive/fomlFinal/training1.csv')\n",
        "training2=pd.read_csv('/content/drive/My Drive/fomlFinal/training2.csv')"
      ],
      "metadata": {
        "id": "ftPuu5aRPSve"
      },
      "execution_count": null,
      "outputs": []
    },
    {
      "cell_type": "code",
      "source": [
        "#rest of the imports\n",
        "import numpy as np\n",
        "from numpy import std\n",
        "from numpy import mean\n",
        "import matplotlib.pyplot as plt\n",
        "#allows for predictive data analysis\n",
        "from sklearn.preprocessing import MinMaxScaler\n",
        "from sklearn.decomposition import PCA\n",
        "from sklearn.impute import SimpleImputer\n",
        "from sklearn.feature_selection import RFECV\n",
        "#Logistical Regression import\n",
        "from sklearn.naive_bayes import GaussianNB\n",
        "from sklearn.linear_model import LogisticRegression\n",
        "from sklearn.ensemble import RandomForestClassifier\n",
        "from sklearn.neighbors import KNeighborsClassifier\n",
        "from sklearn.discriminant_analysis import LinearDiscriminantAnalysis\n",
        "from sklearn.neural_network import MLPClassifier\n",
        "%matplotlib inline\n",
        "#modeling tools and functions\n",
        "from sklearn.model_selection import GridSearchCV\n",
        "from xgboost import XGBClassifier\n",
        "from sklearn.pipeline import Pipeline\n",
        "from sklearn.model_selection import train_test_split\n",
        "from sklearn.model_selection import learning_curve\n",
        "from sklearn.feature_selection import SelectKBest\n",
        "from sklearn.model_selection import cross_val_score\n",
        "from sklearn.model_selection import RepeatedStratifiedKFold"
      ],
      "metadata": {
        "id": "Xs4_J7IlPsfi"
      },
      "execution_count": null,
      "outputs": []
    },
    {
      "cell_type": "code",
      "source": [
        "#Checking all the data in the CSV files with a confident of 0.66 and lower.\n",
        "data = training2\n",
        "\n",
        "# Using that data and removing it so that only lists of confident CNN's are at access\n",
        "data.drop(data.loc[data['confidence']==0.66].index, inplace=True)\n",
        "\n",
        "print(data)"
      ],
      "metadata": {
        "colab": {
          "base_uri": "https://localhost:8080/"
        },
        "id": "0_DH8DoqQVOh",
        "outputId": "3c37192b-3c5f-4378-af20-e135005c528a"
      },
      "execution_count": null,
      "outputs": [
        {
          "output_type": "stream",
          "name": "stdout",
          "text": [
            "          CNNs  CNNs.1   CNNs.2   CNNs.3  CNNs.4  CNNs.5   CNNs.6    CNNs.7  \\\n",
            "5     0.978710     0.0  0.53106  0.08954  0.0000  0.0000      NaN  0.000000   \n",
            "6     0.000000     0.0      NaN  1.28070  0.0000  2.3988  0.00000  0.000000   \n",
            "8     0.930910     0.0  0.00000  0.00000  0.0000  0.0000  0.20444  0.749020   \n",
            "11    0.000000     NaN  0.90912  0.00000  0.0000  0.0000  0.00000       NaN   \n",
            "14    0.000000     0.0  1.95110      NaN  0.0000  0.0000  0.00000  0.000000   \n",
            "...        ...     ...      ...      ...     ...     ...      ...       ...   \n",
            "2776  0.000000     0.0  0.00000  0.35047  1.9866  0.1752  0.00000       NaN   \n",
            "2785  0.541410     0.0      NaN  0.56338  0.0000  0.0000  0.19530  1.037000   \n",
            "2786  0.000000     0.0      NaN  0.00000  0.0000  0.0000      NaN       NaN   \n",
            "2788  0.058926     NaN  0.00000  0.00000     NaN  0.0000  0.13947  0.000000   \n",
            "2797  0.000000     0.0  0.00000  0.00000  2.1172  0.0000      NaN  0.061342   \n",
            "\n",
            "       CNNs.8    CNNs.9  ...  GIST.504  GIST.505  GIST.506  GIST.507  \\\n",
            "5     0.00000  0.000000  ...  0.041249  0.021047  0.033557  0.037041   \n",
            "6     1.12650       NaN  ...       NaN  0.025325  0.037895  0.042396   \n",
            "8         NaN  0.000000  ...  0.042044       NaN  0.041167  0.014265   \n",
            "11    0.00000  0.000000  ...  0.038232  0.040789       NaN  0.028375   \n",
            "14    0.00000  0.386060  ...  0.034720       NaN  0.054025  0.029609   \n",
            "...       ...       ...  ...       ...       ...       ...       ...   \n",
            "2776  0.10892       NaN  ...  0.029112       NaN  0.033922  0.007066   \n",
            "2785  0.00000  0.024204  ...  0.014050  0.031446  0.024723  0.045561   \n",
            "2786      NaN       NaN  ...       NaN  0.065288  0.032842  0.045648   \n",
            "2788  0.20377  0.839100  ...  0.010135  0.027394  0.012996  0.032611   \n",
            "2797      NaN  0.823590  ...  0.041875  0.044982  0.025799  0.025093   \n",
            "\n",
            "      GIST.508  GIST.509  GIST.510  GIST.511  label  confidence  \n",
            "5     0.019992  0.002729  0.030647  0.002988    0.0         1.0  \n",
            "6     0.026299  0.017758  0.044163  0.032423    1.0         1.0  \n",
            "8     0.018338       NaN       NaN  0.017535    0.0         1.0  \n",
            "11    0.031343  0.028924  0.029249       NaN    1.0         1.0  \n",
            "14         NaN       NaN  0.034571  0.023277    1.0         1.0  \n",
            "...        ...       ...       ...       ...    ...         ...  \n",
            "2776  0.021269  0.028017  0.012619  0.024383    1.0         1.0  \n",
            "2785  0.026857  0.016558  0.012327  0.023375    0.0         1.0  \n",
            "2786  0.045460  0.029575  0.031733  0.063160    0.0         1.0  \n",
            "2788       NaN  0.014756  0.018556       NaN    1.0         1.0  \n",
            "2797  0.046414  0.028200  0.064039  0.028982    1.0         1.0  \n",
            "\n",
            "[731 rows x 4610 columns]\n"
          ]
        }
      ]
    },
    {
      "cell_type": "code",
      "source": [
        "#Check to see if any data is replicated anywhere\n",
        "repli = data.duplicated()\n",
        "\n",
        "print(repli.any())\n",
        "print(data[repli])\n",
        "\n",
        "#Then check which values only have singular numbers attached to them\n",
        "xy = data.nunique()\n",
        "removeV = [i for i,v in enumerate(xy) if v == 1]\n",
        "print(removeV)"
      ],
      "metadata": {
        "colab": {
          "base_uri": "https://localhost:8080/"
        },
        "id": "bmuSJ_cgQG7u",
        "outputId": "b67ab0dc-0716-4546-881c-b5cab9167f35"
      },
      "execution_count": null,
      "outputs": [
        {
          "output_type": "stream",
          "name": "stdout",
          "text": [
            "False\n",
            "Empty DataFrame\n",
            "Columns: [CNNs, CNNs.1, CNNs.2, CNNs.3, CNNs.4, CNNs.5, CNNs.6, CNNs.7, CNNs.8, CNNs.9, CNNs.10, CNNs.11, CNNs.12, CNNs.13, CNNs.14, CNNs.15, CNNs.16, CNNs.17, CNNs.18, CNNs.19, CNNs.20, CNNs.21, CNNs.22, CNNs.23, CNNs.24, CNNs.25, CNNs.26, CNNs.27, CNNs.28, CNNs.29, CNNs.30, CNNs.31, CNNs.32, CNNs.33, CNNs.34, CNNs.35, CNNs.36, CNNs.37, CNNs.38, CNNs.39, CNNs.40, CNNs.41, CNNs.42, CNNs.43, CNNs.44, CNNs.45, CNNs.46, CNNs.47, CNNs.48, CNNs.49, CNNs.50, CNNs.51, CNNs.52, CNNs.53, CNNs.54, CNNs.55, CNNs.56, CNNs.57, CNNs.58, CNNs.59, CNNs.60, CNNs.61, CNNs.62, CNNs.63, CNNs.64, CNNs.65, CNNs.66, CNNs.67, CNNs.68, CNNs.69, CNNs.70, CNNs.71, CNNs.72, CNNs.73, CNNs.74, CNNs.75, CNNs.76, CNNs.77, CNNs.78, CNNs.79, CNNs.80, CNNs.81, CNNs.82, CNNs.83, CNNs.84, CNNs.85, CNNs.86, CNNs.87, CNNs.88, CNNs.89, CNNs.90, CNNs.91, CNNs.92, CNNs.93, CNNs.94, CNNs.95, CNNs.96, CNNs.97, CNNs.98, CNNs.99, ...]\n",
            "Index: []\n",
            "\n",
            "[0 rows x 4610 columns]\n",
            "[4609]\n"
          ]
        }
      ]
    },
    {
      "cell_type": "code",
      "source": [
        "#Find CNN points of value\n",
        "propTotal = list(data.columns.values)\n",
        "propCNN = [s for s in propTotal if \"CNNs.\" in s]\n",
        "dataCNN = data[propCNN]\n",
        "\n",
        "#Finding GIST discriptors\n",
        "GISTdescrip = [s for s in propTotal if \"GIST.\" in s]\n",
        "dataGIST = data[GISTdescrip]"
      ],
      "metadata": {
        "id": "2h08ixsFQG3T"
      },
      "execution_count": null,
      "outputs": []
    },
    {
      "cell_type": "code",
      "source": [
        "# Pre-processing data\n",
        "def preProcess(data):\n",
        "\n",
        "  #firstly convert datavalues into a fram\n",
        "  dArray = data.values\n",
        "  #Normalization\n",
        "  maxScale = MinMaxScaler(feature_range = (0,1))\n",
        "  data_normalization = maxScale.fit_transform(dArray)\n",
        "\n",
        "  #Input\n",
        "  imputation = SimpleImputer(strategy='mean')\n",
        "  dImputing = imputation.fit_transform(data_normalization)\n",
        "  \n",
        "  #reduce size of diamensions\n",
        "  smallPCA = PCA(n_components=10)\n",
        "  dPCA = smallPCA.fit_transform(dImputing) \n",
        "\n",
        "  #show plot\n",
        "  plt.scatter(dPCA[:,0],dPCA[:,1])\n",
        "  return dPCA\n",
        "\n",
        "\n",
        "#model evaluation\n",
        "def evaModel(model, train_x, train_y):\n",
        "  #k fold cross validation\n",
        "\tcv = RepeatedStratifiedKFold(n_splits=10, n_repeats=3, random_state=1)\n",
        "\tyx = cross_val_score(model, train_x, train_y, scoring='accuracy', cv=cv, n_jobs=-1)\n",
        "\treturn yx "
      ],
      "metadata": {
        "id": "nlo-jv_ksg56"
      },
      "execution_count": null,
      "outputs": []
    },
    {
      "cell_type": "code",
      "source": [
        "#Retreieve all training information\n",
        "\n",
        "prop = list(data.columns.values)\n",
        "prop.remove('label')\n",
        "propData = data[prop]\n",
        "tLabel = data['label']\n",
        "traData=preProcess(propData)"
      ],
      "metadata": {
        "colab": {
          "base_uri": "https://localhost:8080/",
          "height": 265
        },
        "id": "eSvXQVg8Vzl-",
        "outputId": "16bac3ac-462c-436d-f512-eb4553858713"
      },
      "execution_count": null,
      "outputs": [
        {
          "output_type": "display_data",
          "data": {
            "text/plain": [
              "<Figure size 432x288 with 1 Axes>"
            ],
            "image/png": "[encoded data removed]"
          },
          "metadata": {
            "needs_background": "light"
          }
        }
      ]
    },
    {
      "cell_type": "code",
      "source": [
        "#imporatnce levels:\n",
        "#calculation CNN\n",
        "import statistics\n",
        "from xgboost import XGBClassifier\n",
        "from sklearn.model_selection import train_test_split\n",
        "xTrain, xTest, yTrain, yTest = train_test_split(dataCNN, tLabel, test_size=0.25, random_state=42)\n",
        "xS = MinMaxScaler(feature_range = (0,1))\n",
        "xTraS = xS.fit_transform(xTrain)\n",
        "XTeS = xS.transform(xTest)\n",
        "\n",
        "\n",
        "mod = XGBClassifier()\n",
        "mod.fit(xTraS , yTrain)\n",
        "importances = pd.DataFrame(data={\n",
        "    'Attribute': xTrain.columns,\n",
        "    'Importance': mod.feature_importances_\n",
        "})\n",
        "CNNImpo = statistics.mean(mod.feature_importances_)\n",
        "\n",
        "print(CNNImpo)"
      ],
      "metadata": {
        "id": "A6nvOiS2jLpC",
        "colab": {
          "base_uri": "https://localhost:8080/"
        },
        "outputId": "1e5d0bf5-7aa5-45b4-c53e-2e3e5390a123"
      },
      "execution_count": null,
      "outputs": [
        {
          "output_type": "stream",
          "name": "stdout",
          "text": [
            "0.00024420026\n"
          ]
        }
      ]
    },
    {
      "cell_type": "code",
      "source": [
        "#imporatnce levels:\n",
        "#calculation GIST\n",
        "xTrain, xTest, yTrain, yTest = train_test_split(dataGIST, tLabel, test_size=0.25, random_state=42)\n",
        "xS = MinMaxScaler(feature_range = (0,1))\n",
        "xTraS = xS.fit_transform(xTrain)\n",
        "XTeS = xS.transform(xTest)\n",
        "\n",
        "mod = XGBClassifier()\n",
        "mod.fit(xTraS, yTrain)\n",
        "importances = pd.DataFrame(data={\n",
        "    'Attribute': xTrain.columns,\n",
        "    'Importance': mod.feature_importances_\n",
        "})\n",
        "gImpo = statistics.mean(mod.feature_importances_)\n",
        "\n",
        "print(gImpo)"
      ],
      "metadata": {
        "colab": {
          "base_uri": "https://localhost:8080/"
        },
        "id": "yWqShOl5mo7I",
        "outputId": "709cbb1f-d832-4933-f54a-ea8fb501d75a"
      },
      "execution_count": null,
      "outputs": [
        {
          "output_type": "stream",
          "name": "stdout",
          "text": [
            "0.0019569471\n"
          ]
        }
      ]
    },
    {
      "cell_type": "code",
      "source": [
        "#Checking to see if inputting functions work\n",
        "\n",
        "Res = list()\n",
        "methods = ['mean', 'median', 'most_frequent', 'constant']\n",
        "\n",
        "#for loop to check through each other and output its score.\n",
        "for m in methods:\n",
        "\t#creat pipeline\n",
        "\tpipeL = Pipeline(steps=[('i', SimpleImputer(strategy=m)), ('m', RandomForestClassifier())])\n",
        "\t#model eval\n",
        "\tcv = RepeatedStratifiedKFold(n_splits=10, n_repeats=3, random_state=1)\n",
        "\tcount = cross_val_score(pipeL, propData, tLabel, scoring='accuracy', cv=cv, n_jobs=-1)\n",
        "\t#save results\n",
        "\tRes.append(count)\n",
        "\tprint('>%s %.3f (%.3f)' % (m, mean(count), std(count)))\n",
        "#plot box plot to compare methods\n",
        "plt.boxplot(Res, labels=methods, showmeans=True)\n",
        "plt.show()"
      ],
      "metadata": {
        "colab": {
          "base_uri": "https://localhost:8080/",
          "height": 335
        },
        "id": "EBjEHAWesbL7",
        "outputId": "45bdc1d6-753d-4e14-9512-9538d61ccad2"
      },
      "execution_count": null,
      "outputs": [
        {
          "output_type": "stream",
          "name": "stdout",
          "text": [
            ">mean 0.740 (0.042)\n",
            ">median 0.750 (0.047)\n",
            ">most_frequent 0.746 (0.050)\n",
            ">constant 0.746 (0.046)\n"
          ]
        },
        {
          "output_type": "display_data",
          "data": {
            "text/plain": [
              "<Figure size 432x288 with 1 Axes>"
            ],
            "image/png": "[encoded data removed]"
          },
          "metadata": {
            "needs_background": "light"
          }
        }
      ]
    },
    {
      "cell_type": "code",
      "source": [
        "#check values for all results\n",
        "def useModel():\n",
        "  models = dict()\n",
        "  models['NB'] =GaussianNB()\n",
        "  models['K-NN'] = KNeighborsClassifier()\n",
        "  models['Random Forest'] = RandomForestClassifier()\n",
        "  models['Logi. Regression'] = LogisticRegression()\n",
        "  models['Multi Perceptron'] = MLPClassifier()\n",
        "\n",
        "  #return\n",
        "  return models\n",
        "\n",
        "#retrieve all the models for evaluating\n",
        "modeling = useModel()\n",
        "\n",
        "#store results for models\n",
        "results, names = list(), list()\n",
        "for name, model in modeling.items():\n",
        "  yx = evaModel(model, traData, tLabel)\n",
        "  results.append(yx)\n",
        "  names.append(name)\n",
        "  print('%s : %f (%f)' % (name, mean(yx), std(yx)))\n",
        "\n",
        "\n",
        "#print out plot and confidence ratings\n",
        "fig = plt.figure(figsize=(20,10))\n",
        "ax = fig.add_subplot(111)\n",
        "ax.boxplot(results, labels=names, showmeans=True)\n",
        "ax.set_xlabel('Methods', fontsize=16, fontweight='bold')\n",
        "ax.set_ylabel('Acc.', fontsize=16, fontweight='bold')"
      ],
      "metadata": {
        "colab": {
          "base_uri": "https://localhost:8080/",
          "height": 600
        },
        "id": "WUa3v5F1vN-N",
        "outputId": "26546e27-5483-4600-9c4f-55de07101348"
      },
      "execution_count": null,
      "outputs": [
        {
          "output_type": "stream",
          "name": "stdout",
          "text": [
            "NB : 0.739152 (0.044049)\n",
            "K-NN : 0.693533 (0.044018)\n",
            "Random Forest : 0.735505 (0.046478)\n",
            "Logi. Regression : 0.747797 (0.040121)\n",
            "Multi Perceptron : 0.715864 (0.045373)\n"
          ]
        },
        {
          "output_type": "execute_result",
          "data": {
            "text/plain": [
              "Text(0, 0.5, 'Acc.')"
            ]
          },
          "metadata": {},
          "execution_count": 11
        },
        {
          "output_type": "display_data",
          "data": {
            "text/plain": [
              "<Figure size 1440x720 with 1 Axes>"
            ],
            "image/png": "[encoded data removed]"
          },
          "metadata": {
            "needs_background": "light"
          }
        }
      ]
    },
    {
      "cell_type": "code",
      "source": [
        "#using logisitic regress as it provides the highest confidence\n",
        "model = LogisticRegression()\n",
        "#creating a grid parameter\n",
        "pGrid = [\n",
        "    {\n",
        "    'penalty' : ['l1', 'l2'],\n",
        "    'C' : np.logspace(-4, 4, 20),\n",
        "    'solver' : ['newton-cg', 'lbfgs', 'liblinear'],\n",
        "    'max_iter' : [100,110,120,130,140],\n",
        "    'dual':[True,False]\n",
        "    }\n",
        "]\n",
        "\n",
        "#search throughout the grid\n",
        "#and actually define it\n",
        "cv = RepeatedStratifiedKFold(n_splits=10, n_repeats=3, random_state=1)\n",
        "gSearch  = GridSearchCV(estimator=model, param_grid = pGrid, n_jobs=-1, cv=cv, scoring='accuracy')\n",
        "gResult = gSearch.fit(traData, tLabel)\n",
        "\n",
        "#provide best result for LR\n",
        "print(\"Improved LR Score: %f using %s\" % (gResult.best_score_, gResult.best_params_))"
      ],
      "metadata": {
        "colab": {
          "base_uri": "https://localhost:8080/"
        },
        "id": "CULRpGm-xL4i",
        "outputId": "56b79d04-6f69-4bc0-fff7-54d86adbb9b3"
      },
      "execution_count": null,
      "outputs": [
        {
          "output_type": "stream",
          "name": "stdout",
          "text": [
            "Improved LR Score: 0.750987 using {'C': 11.288378916846883, 'dual': True, 'max_iter': 100, 'penalty': 'l2', 'solver': 'liblinear'}\n"
          ]
        },
        {
          "output_type": "stream",
          "name": "stderr",
          "text": [
            "/usr/local/lib/python3.7/dist-packages/sklearn/model_selection/_validation.py:372: FitFailedWarning: \n",
            "21000 fits failed out of a total of 36000.\n",
            "The score on these train-test partitions for these parameters will be set to nan.\n",
            "If these failures are not expected, you can try to debug them by setting error_score='raise'.\n",
            "\n",
            "Below are more details about the failures:\n",
            "--------------------------------------------------------------------------------\n",
            "6000 fits failed with the following error:\n",
            "Traceback (most recent call last):\n",
            "  File \"/usr/local/lib/python3.7/dist-packages/sklearn/model_selection/_validation.py\", line 680, in _fit_and_score\n",
            "    estimator.fit(X_train, y_train, **fit_params)\n",
            "  File \"/usr/local/lib/python3.7/dist-packages/sklearn/linear_model/_logistic.py\", line 1461, in fit\n",
            "    solver = _check_solver(self.solver, self.penalty, self.dual)\n",
            "  File \"/usr/local/lib/python3.7/dist-packages/sklearn/linear_model/_logistic.py\", line 449, in _check_solver\n",
            "    % (solver, penalty)\n",
            "ValueError: Solver newton-cg supports only 'l2' or 'none' penalties, got l1 penalty.\n",
            "\n",
            "--------------------------------------------------------------------------------\n",
            "6000 fits failed with the following error:\n",
            "Traceback (most recent call last):\n",
            "  File \"/usr/local/lib/python3.7/dist-packages/sklearn/model_selection/_validation.py\", line 680, in _fit_and_score\n",
            "    estimator.fit(X_train, y_train, **fit_params)\n",
            "  File \"/usr/local/lib/python3.7/dist-packages/sklearn/linear_model/_logistic.py\", line 1461, in fit\n",
            "    solver = _check_solver(self.solver, self.penalty, self.dual)\n",
            "  File \"/usr/local/lib/python3.7/dist-packages/sklearn/linear_model/_logistic.py\", line 449, in _check_solver\n",
            "    % (solver, penalty)\n",
            "ValueError: Solver lbfgs supports only 'l2' or 'none' penalties, got l1 penalty.\n",
            "\n",
            "--------------------------------------------------------------------------------\n",
            "3000 fits failed with the following error:\n",
            "Traceback (most recent call last):\n",
            "  File \"/usr/local/lib/python3.7/dist-packages/sklearn/model_selection/_validation.py\", line 680, in _fit_and_score\n",
            "    estimator.fit(X_train, y_train, **fit_params)\n",
            "  File \"/usr/local/lib/python3.7/dist-packages/sklearn/linear_model/_logistic.py\", line 1541, in fit\n",
            "    sample_weight=sample_weight,\n",
            "  File \"/usr/local/lib/python3.7/dist-packages/sklearn/svm/_base.py\", line 1185, in _fit_liblinear\n",
            "    solver_type = _get_liblinear_solver_type(multi_class, penalty, loss, dual)\n",
            "  File \"/usr/local/lib/python3.7/dist-packages/sklearn/svm/_base.py\", line 1026, in _get_liblinear_solver_type\n",
            "    % (error_string, penalty, loss, dual)\n",
            "ValueError: Unsupported set of arguments: The combination of penalty='l1' and loss='logistic_regression' are not supported when dual=True, Parameters: penalty='l1', loss='logistic_regression', dual=True\n",
            "\n",
            "--------------------------------------------------------------------------------\n",
            "3000 fits failed with the following error:\n",
            "Traceback (most recent call last):\n",
            "  File \"/usr/local/lib/python3.7/dist-packages/sklearn/model_selection/_validation.py\", line 680, in _fit_and_score\n",
            "    estimator.fit(X_train, y_train, **fit_params)\n",
            "  File \"/usr/local/lib/python3.7/dist-packages/sklearn/linear_model/_logistic.py\", line 1461, in fit\n",
            "    solver = _check_solver(self.solver, self.penalty, self.dual)\n",
            "  File \"/usr/local/lib/python3.7/dist-packages/sklearn/linear_model/_logistic.py\", line 453, in _check_solver\n",
            "    \"Solver %s supports only dual=False, got dual=%s\" % (solver, dual)\n",
            "ValueError: Solver newton-cg supports only dual=False, got dual=True\n",
            "\n",
            "--------------------------------------------------------------------------------\n",
            "3000 fits failed with the following error:\n",
            "Traceback (most recent call last):\n",
            "  File \"/usr/local/lib/python3.7/dist-packages/sklearn/model_selection/_validation.py\", line 680, in _fit_and_score\n",
            "    estimator.fit(X_train, y_train, **fit_params)\n",
            "  File \"/usr/local/lib/python3.7/dist-packages/sklearn/linear_model/_logistic.py\", line 1461, in fit\n",
            "    solver = _check_solver(self.solver, self.penalty, self.dual)\n",
            "  File \"/usr/local/lib/python3.7/dist-packages/sklearn/linear_model/_logistic.py\", line 453, in _check_solver\n",
            "    \"Solver %s supports only dual=False, got dual=%s\" % (solver, dual)\n",
            "ValueError: Solver lbfgs supports only dual=False, got dual=True\n",
            "\n",
            "  warnings.warn(some_fits_failed_message, FitFailedWarning)\n",
            "/usr/local/lib/python3.7/dist-packages/sklearn/model_selection/_search.py:972: UserWarning: One or more of the test scores are non-finite: [       nan        nan        nan ... 0.74779711 0.74779711 0.74779711]\n",
            "  category=UserWarning,\n",
            "/usr/local/lib/python3.7/dist-packages/sklearn/svm/_base.py:1208: ConvergenceWarning: Liblinear failed to converge, increase the number of iterations.\n",
            "  ConvergenceWarning,\n"
          ]
        }
      ]
    },
    {
      "cell_type": "code",
      "source": [
        "#Check/graph LR class\n",
        "def gMod():\n",
        "  tMod = dict()\n",
        "  tMod['LR'] = LogisticRegression()\n",
        "  tMod['LR 2'] = LogisticRegression(penalty='l2')\n",
        "  tMod['LR 3'] = LogisticRegression(penalty='l2',C=0.012742749857031334)\n",
        "  tMod['LR 4'] = LogisticRegression(penalty='l2',C=0.012742749857031334,solver='newton-cg')\n",
        "  tMod['LR 5'] = LogisticRegression(penalty='l1',C=0.012742749857031334,solver='liblinear')\n",
        "  tMod['LR 6'] = LogisticRegression(penalty='l2',C=0.012742749857031334,solver='liblinear')\n",
        "  return tMod\n",
        "\n",
        "\n",
        "#Evaluate Model\n",
        "tMod = gMod()\n",
        "\n",
        "#plot graph against training data\n",
        "for name, model in tMod.items():\n",
        "    (train_sizes,\n",
        "     train_scores,\n",
        "     test_scores) = learning_curve(model, traData, tLabel, cv=5)\n",
        "    test_mean = np.mean(test_scores, axis=1)\n",
        "    plt.plot(train_sizes, test_mean, label=' %s ' % (name))\n",
        "\n",
        "#show plot\n",
        "plt.legend()\n",
        "plt.show()"
      ],
      "metadata": {
        "colab": {
          "base_uri": "https://localhost:8080/",
          "height": 265
        },
        "id": "1c9LxJZOx-Kh",
        "outputId": "f2ecb91a-780b-456f-d60e-08d501278256"
      },
      "execution_count": null,
      "outputs": [
        {
          "output_type": "display_data",
          "data": {
            "text/plain": [
              "<Figure size 432x288 with 1 Axes>"
            ],
            "image/png": "[encoded data removed]"
          },
          "metadata": {
            "needs_background": "light"
          }
        }
      ]
    },
    {
      "cell_type": "code",
      "source": [
        "#draw rate of learning for LR\n",
        "model=LogisticRegression(penalty='l2',C=0.012742749857031334,solver='liblinear',max_iter = 100)\n",
        "\n",
        "#for x-validation\n",
        "sizes, training_scores, testing_scores = learning_curve(model, traData, tLabel, cv=10, scoring='accuracy', train_sizes=np.linspace(0.01, 1.0, 50))\n",
        "  \n",
        "#mean and standard deviation calculations for training data\n",
        "meanTraining = np.mean(training_scores, axis=1)\n",
        "sdTraining = np.std(training_scores, axis=1)\n",
        "  \n",
        "#same for testing data\n",
        "meanTesting = np.mean(testing_scores, axis=1)\n",
        "sdTesting = np.std(testing_scores, axis=1)\n",
        "  \n",
        "# blue line for training val, red for x-validation\n",
        "plt.plot(sizes, meanTraining, '--', color=\"b\",  label=\"Train Values\")\n",
        "plt.plot(sizes, meanTesting, color=\"r\", label=\"X-Validation Values\")\n",
        "  \n",
        "#show plot\n",
        "plt.xlabel(\"Train Set Quantity\"), plt.ylabel(\"Accuracy\"), plt.legend(loc=\"best\")\n",
        "plt.show()"
      ],
      "metadata": {
        "colab": {
          "base_uri": "https://localhost:8080/",
          "height": 279
        },
        "id": "P6rHTP-dyyiz",
        "outputId": "1ac381b7-1452-4fe4-a8e5-7f377e59eb7f"
      },
      "execution_count": null,
      "outputs": [
        {
          "output_type": "display_data",
          "data": {
            "text/plain": [
              "<Figure size 432x288 with 1 Axes>"
            ],
            "image/png": "[encoded data removed]"
          },
          "metadata": {
            "needs_background": "light"
          }
        }
      ]
    },
    {
      "cell_type": "code",
      "source": [
        "#creating a test CSV file for data save\n",
        "check = pd.read_csv('/content/drive/My Drive/fomlFinal/test.csv')"
      ],
      "metadata": {
        "id": "crgO6IoIzOw7"
      },
      "execution_count": null,
      "outputs": []
    },
    {
      "cell_type": "code",
      "source": [
        "t_Data = preProcess(check)\n",
        "# fit final model\n",
        "modPlot = LogisticRegression(penalty='l2',C=0.012742749857031334,solver='liblinear',max_iter = 100)\n",
        "modPlot.fit(traData,tLabel)\n",
        "predictions = model.predict(t_Data)"
      ],
      "metadata": {
        "colab": {
          "base_uri": "https://localhost:8080/",
          "height": 265
        },
        "id": "QCLplhnfzNL1",
        "outputId": "24c906c7-77ba-4f79-ecce-3eb1dd2e39a5"
      },
      "execution_count": null,
      "outputs": [
        {
          "output_type": "display_data",
          "data": {
            "text/plain": [
              "<Figure size 432x288 with 1 Axes>"
            ],
            "image/png": "[encoded data removed]"
          },
          "metadata": {
            "needs_background": "light"
          }
        }
      ]
    },
    {
      "cell_type": "code",
      "source": [
        "#final predictions saved to csv\n",
        "prediction = pd.DataFrame(predictions, columns=['prediction']).to_csv('predictions.csv')\n",
        "from google.colab import files\n",
        "files.download(\"predictions.csv\")"
      ],
      "metadata": {
        "colab": {
          "base_uri": "https://localhost:8080/",
          "height": 17
        },
        "id": "yCeGDXNCy3go",
        "outputId": "61fe660b-4720-4771-d24c-32915b3fb5c0"
      },
      "execution_count": null,
      "outputs": [
        {
          "output_type": "display_data",
          "data": {
            "text/plain": [
              "<IPython.core.display.Javascript object>"
            ],
            "application/javascript": [
              "\n",
              "    async function download(id, filename, size) {\n",
              "      if (!google.colab.kernel.accessAllowed) {\n",
              "        return;\n",
              "      }\n",
              "      const div = document.createElement('div');\n",
              "      const label = document.createElement('label');\n",
              "      label.textContent = `Downloading \"${filename}\": `;\n",
              "      div.appendChild(label);\n",
              "      const progress = document.createElement('progress');\n",
              "      progress.max = size;\n",
              "      div.appendChild(progress);\n",
              "      document.body.appendChild(div);\n",
              "\n",
              "      const buffers = [];\n",
              "      let downloaded = 0;\n",
              "\n",
              "      const channel = await google.colab.kernel.comms.open(id);\n",
              "      // Send a message to notify the kernel that we're ready.\n",
              "      channel.send({})\n",
              "\n",
              "      for await (const message of channel.messages) {\n",
              "        // Send a message to notify the kernel that we're ready.\n",
              "        channel.send({})\n",
              "        if (message.buffers) {\n",
              "          for (const buffer of message.buffers) {\n",
              "            buffers.push(buffer);\n",
              "            downloaded += buffer.byteLength;\n",
              "            progress.value = downloaded;\n",
              "          }\n",
              "        }\n",
              "      }\n",
              "      const blob = new Blob(buffers, {type: 'application/binary'});\n",
              "      const a = document.createElement('a');\n",
              "      a.href = window.URL.createObjectURL(blob);\n",
              "      a.download = filename;\n",
              "      div.appendChild(a);\n",
              "      a.click();\n",
              "      div.remove();\n",
              "    }\n",
              "  "
            ]
          },
          "metadata": {}
        },
        {
          "output_type": "display_data",
          "data": {
            "text/plain": [
              "<IPython.core.display.Javascript object>"
            ],
            "application/javascript": [
              "download(\"download_05f1ea78-c103-4602-990c-348dba028002\", \"predictions.csv\", 16902)"
            ]
          },
          "metadata": {}
        }
      ]
    }
  ]
}